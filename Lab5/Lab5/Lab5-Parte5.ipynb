{
 "cells": [
  {
   "cell_type": "markdown",
   "metadata": {},
   "source": [
    "# <font color='blue'>Data Science Academy</font>\n",
    "# <font color='blue'>Big Data Real-Time Analytics com Python e Spark</font>\n",
    "\n",
    "## <font color='blue'>Lab 5</font>\n",
    "\n",
    "## <font color='blue'>Machine Learning com PySpark</font>"
   ]
  },
  {
   "cell_type": "markdown",
   "metadata": {},
   "source": [
    "Leia os manuais em pdf no Capítulo 14 do curso com o material complementar."
   ]
  },
  {
   "cell_type": "markdown",
   "metadata": {},
   "source": [
    "![title](imagens/Lab5.png)"
   ]
  },
  {
   "cell_type": "markdown",
   "metadata": {},
   "source": [
    "## <font color='blue'>Clusterização (Agrupamento)</font>\n",
    "\n",
    "Aqui o nosso objetivo será agrupar veículos por similaridade, ou seja, criar grupos de veículos similares. Não temos essa informação previamente e por isso aprendizado supervisionado não pode ser usado. Usaremos um algoritmo de aprendizado não supervisionado, entregando ao algoritmo somente os dados de entrada."
   ]
  },
  {
   "cell_type": "code",
   "execution_count": 1,
   "metadata": {},
   "outputs": [
    {
     "name": "stdout",
     "output_type": "stream",
     "text": [
      "Versão da Linguagem Python Usada Neste Jupyter Notebook: 3.9.7\n"
     ]
    }
   ],
   "source": [
    "# Versão da Linguagem Python\n",
    "from platform import python_version\n",
    "print('Versão da Linguagem Python Usada Neste Jupyter Notebook:', python_version())"
   ]
  },
  {
   "cell_type": "code",
   "execution_count": 2,
   "metadata": {},
   "outputs": [],
   "source": [
    "# Para atualizar um pacote, execute o comando abaixo no terminal ou prompt de comando:\n",
    "# pip install -U nome_pacote\n",
    "\n",
    "# Para instalar a versão exata de um pacote, execute o comando abaixo no terminal ou prompt de comando:\n",
    "#!pip install nome_pacote==versão_desejada\n",
    "\n",
    "# Depois de instalar ou atualizar o pacote, reinicie o jupyter notebook.\n",
    "\n",
    "# Instala o pacote watermark. \n",
    "# Esse pacote é usado para gravar as versões de outros pacotes usados neste jupyter notebook.\n",
    "#!pip install -q -U watermark"
   ]
  },
  {
   "cell_type": "code",
   "execution_count": 3,
   "metadata": {},
   "outputs": [],
   "source": [
    "# Importa o findspark e inicializa\n",
    "import findspark\n",
    "findspark.init()"
   ]
  },
  {
   "cell_type": "code",
   "execution_count": 4,
   "metadata": {},
   "outputs": [],
   "source": [
    "# Imports\n",
    "import pyspark\n",
    "from pyspark import SparkContext\n",
    "from pyspark.sql import SparkSession\n",
    "import pandas as pd\n",
    "from pyspark.sql import Row\n",
    "from pyspark.ml.linalg import Vectors\n",
    "from pyspark.ml.clustering import KMeans\n",
    "import matplotlib.pylab as plt\n",
    "%matplotlib inline"
   ]
  },
  {
   "cell_type": "code",
   "execution_count": 5,
   "metadata": {},
   "outputs": [
    {
     "name": "stdout",
     "output_type": "stream",
     "text": [
      "Author: Data Science Academy\n",
      "\n",
      "findspark : 2.0.1\n",
      "pyspark   : 3.3.0\n",
      "pandas    : 1.3.4\n",
      "matplotlib: 3.4.3\n",
      "\n"
     ]
    }
   ],
   "source": [
    "# Versões dos pacotes usados neste jupyter notebook\n",
    "%reload_ext watermark\n",
    "%watermark -a \"Data Science Academy\" --iversions"
   ]
  },
  {
   "cell_type": "markdown",
   "metadata": {},
   "source": [
    "## Carregando os Dados"
   ]
  },
  {
   "cell_type": "code",
   "execution_count": 6,
   "metadata": {},
   "outputs": [
    {
     "name": "stdout",
     "output_type": "stream",
     "text": [
      "22/08/24 17:54:33 WARN Utils: Your hostname, falcon.local resolves to a loopback address: 127.0.0.1; using 10.0.0.87 instead (on interface en0)\n",
      "22/08/24 17:54:33 WARN Utils: Set SPARK_LOCAL_IP if you need to bind to another address\n"
     ]
    },
    {
     "name": "stderr",
     "output_type": "stream",
     "text": [
      "Setting default log level to \"WARN\".\n",
      "To adjust logging level use sc.setLogLevel(newLevel). For SparkR, use setLogLevel(newLevel).\n"
     ]
    },
    {
     "name": "stdout",
     "output_type": "stream",
     "text": [
      "22/08/24 17:54:34 WARN NativeCodeLoader: Unable to load native-hadoop library for your platform... using builtin-java classes where applicable\n",
      "22/08/24 17:54:35 WARN Utils: Service 'SparkUI' could not bind on port 4040. Attempting port 4041.\n",
      "22/08/24 17:54:35 WARN Utils: Service 'SparkUI' could not bind on port 4041. Attempting port 4042.\n",
      "22/08/24 17:54:35 WARN Utils: Service 'SparkUI' could not bind on port 4042. Attempting port 4043.\n",
      "22/08/24 17:54:35 WARN Utils: Service 'SparkUI' could not bind on port 4043. Attempting port 4044.\n"
     ]
    }
   ],
   "source": [
    "# Criando o Spark Context\n",
    "sc = SparkContext(appName = \"Lab5\")"
   ]
  },
  {
   "cell_type": "code",
   "execution_count": 7,
   "metadata": {},
   "outputs": [],
   "source": [
    "sc.setLogLevel(\"ERROR\")"
   ]
  },
  {
   "cell_type": "code",
   "execution_count": 8,
   "metadata": {},
   "outputs": [],
   "source": [
    "# Spark Session - usada quando se trabalha com Dataframes no Spark\n",
    "spSession = SparkSession.builder.master(\"local\").getOrCreate()"
   ]
  },
  {
   "cell_type": "code",
   "execution_count": 9,
   "metadata": {},
   "outputs": [
    {
     "data": {
      "text/plain": [
       "dados/dataset5.csv MapPartitionsRDD[1] at textFile at NativeMethodAccessorImpl.java:0"
      ]
     },
     "execution_count": 9,
     "metadata": {},
     "output_type": "execute_result"
    }
   ],
   "source": [
    "# Carregando os dados e gerando um RDD\n",
    "carrosRDD = sc.textFile(\"dados/dataset5.csv\")\n",
    "carrosRDD.cache()"
   ]
  },
  {
   "cell_type": "code",
   "execution_count": 10,
   "metadata": {},
   "outputs": [
    {
     "name": "stderr",
     "output_type": "stream",
     "text": [
      "                                                                                \r"
     ]
    },
    {
     "data": {
      "text/plain": [
       "198"
      ]
     },
     "execution_count": 10,
     "metadata": {},
     "output_type": "execute_result"
    }
   ],
   "source": [
    "carrosRDD.count()"
   ]
  },
  {
   "cell_type": "code",
   "execution_count": 11,
   "metadata": {},
   "outputs": [
    {
     "data": {
      "text/plain": [
       "['fabricante,tipo_combustivel,aspirado,portas,tipo,direcao,cilindros,horsepower,rpm,consumo_cidade,consumo_estrada,preco',\n",
       " 'subaru,gas,std,two,hatchback,fwd,four,69,4900,31,36,5118',\n",
       " 'chevrolet,gas,std,two,hatchback,fwd,three,48,5100,47,53,5151',\n",
       " 'mazda,gas,std,two,hatchback,fwd,four,68,5000,30,31,5195',\n",
       " 'toyota,gas,std,two,hatchback,fwd,four,62,4800,35,39,5348']"
      ]
     },
     "execution_count": 11,
     "metadata": {},
     "output_type": "execute_result"
    }
   ],
   "source": [
    "carrosRDD.take(5)"
   ]
  },
  {
   "cell_type": "code",
   "execution_count": 12,
   "metadata": {},
   "outputs": [
    {
     "data": {
      "text/plain": [
       "197"
      ]
     },
     "execution_count": 12,
     "metadata": {},
     "output_type": "execute_result"
    }
   ],
   "source": [
    "# Removendo a primeira linha do arquivo (cabeçalho)\n",
    "primeiraLinha = carrosRDD.first()\n",
    "carrosRDD2 = carrosRDD.filter(lambda x: x != primeiraLinha)\n",
    "carrosRDD2.count()"
   ]
  },
  {
   "cell_type": "code",
   "execution_count": 13,
   "metadata": {},
   "outputs": [
    {
     "data": {
      "text/plain": [
       "['subaru,gas,std,two,hatchback,fwd,four,69,4900,31,36,5118',\n",
       " 'chevrolet,gas,std,two,hatchback,fwd,three,48,5100,47,53,5151',\n",
       " 'mazda,gas,std,two,hatchback,fwd,four,68,5000,30,31,5195',\n",
       " 'toyota,gas,std,two,hatchback,fwd,four,62,4800,35,39,5348',\n",
       " 'mitsubishi,gas,std,two,hatchback,fwd,four,68,5500,37,41,5389']"
      ]
     },
     "execution_count": 13,
     "metadata": {},
     "output_type": "execute_result"
    }
   ],
   "source": [
    "carrosRDD2.take(5)"
   ]
  },
  {
   "cell_type": "markdown",
   "metadata": {},
   "source": [
    "## Pré-Processamento dos Dados"
   ]
  },
  {
   "cell_type": "code",
   "execution_count": 14,
   "metadata": {},
   "outputs": [],
   "source": [
    "# Convertendo e limpando os dados\n",
    "def transformToNumeric(inputStr) :\n",
    "    \n",
    "    # Divide a linha em colunas\n",
    "    attList = inputStr.split(\",\")\n",
    "\n",
    "    # Aplica label encoding para as colunas de índice 3 e 4\n",
    "    doors = 1.0 if attList[3] == \"two\" else 2.0\n",
    "    body = 1.0 if attList[4] == \"sedan\" else 2.0 \n",
    "       \n",
    "    # Usaremos somente algumas variáveis do conjunto de dados original\n",
    "    linhas = Row(DOORS = doors, \n",
    "                 BODY = float(body), \n",
    "                 HP = float(attList[7]), \n",
    "                 RPM = float(attList[8]),\n",
    "                 MPG = float(attList[9]))\n",
    "    return linhas"
   ]
  },
  {
   "cell_type": "code",
   "execution_count": 15,
   "metadata": {
    "scrolled": false
   },
   "outputs": [
    {
     "data": {
      "text/plain": [
       "[Row(DOORS=1.0, BODY=2.0, HP=69.0, RPM=4900.0, MPG=31.0),\n",
       " Row(DOORS=1.0, BODY=2.0, HP=48.0, RPM=5100.0, MPG=47.0),\n",
       " Row(DOORS=1.0, BODY=2.0, HP=68.0, RPM=5000.0, MPG=30.0),\n",
       " Row(DOORS=1.0, BODY=2.0, HP=62.0, RPM=4800.0, MPG=35.0),\n",
       " Row(DOORS=1.0, BODY=2.0, HP=68.0, RPM=5500.0, MPG=37.0)]"
      ]
     },
     "execution_count": 15,
     "metadata": {},
     "output_type": "execute_result"
    }
   ],
   "source": [
    "# Aplicando a função\n",
    "carrosRDD3 = carrosRDD2.map(transformToNumeric)\n",
    "carrosRDD3.take(5)"
   ]
  },
  {
   "cell_type": "code",
   "execution_count": 16,
   "metadata": {},
   "outputs": [
    {
     "name": "stdout",
     "output_type": "stream",
     "text": [
      "+-----+----+----+------+----+\n",
      "|DOORS|BODY|  HP|   RPM| MPG|\n",
      "+-----+----+----+------+----+\n",
      "|  1.0| 2.0|69.0|4900.0|31.0|\n",
      "|  1.0| 2.0|48.0|5100.0|47.0|\n",
      "|  1.0| 2.0|68.0|5000.0|30.0|\n",
      "|  1.0| 2.0|62.0|4800.0|35.0|\n",
      "|  1.0| 2.0|68.0|5500.0|37.0|\n",
      "|  1.0| 2.0|60.0|5500.0|38.0|\n",
      "|  1.0| 1.0|69.0|5200.0|31.0|\n",
      "|  1.0| 2.0|68.0|5500.0|37.0|\n",
      "|  1.0| 2.0|68.0|5500.0|37.0|\n",
      "|  1.0| 2.0|68.0|5000.0|31.0|\n",
      "|  1.0| 2.0|68.0|5500.0|31.0|\n",
      "|  2.0| 2.0|68.0|5500.0|31.0|\n",
      "|  2.0| 2.0|68.0|5500.0|31.0|\n",
      "|  1.0| 2.0|70.0|5400.0|38.0|\n",
      "|  1.0| 2.0|62.0|4800.0|31.0|\n",
      "|  1.0| 2.0|68.0|5500.0|31.0|\n",
      "|  1.0| 2.0|58.0|4800.0|49.0|\n",
      "|  2.0| 2.0|62.0|4800.0|31.0|\n",
      "|  1.0| 2.0|76.0|6000.0|30.0|\n",
      "|  2.0| 1.0|70.0|5400.0|38.0|\n",
      "+-----+----+----+------+----+\n",
      "only showing top 20 rows\n",
      "\n"
     ]
    }
   ],
   "source": [
    "# Criando um Dataframe\n",
    "carrosDF = spSession.createDataFrame(carrosRDD3)\n",
    "carrosDF.show()"
   ]
  },
  {
   "cell_type": "markdown",
   "metadata": {},
   "source": [
    "## Padronização\n",
    "\n",
    "Os dados estão em escalas diferentes (dezena, centena, etc...). Para o funcionamento correto do algoritmo os dados devem estar na mesma escala e por isso aplicaremos a padronização."
   ]
  },
  {
   "cell_type": "code",
   "execution_count": 17,
   "metadata": {},
   "outputs": [
    {
     "data": {
      "text/html": [
       "<div>\n",
       "<style scoped>\n",
       "    .dataframe tbody tr th:only-of-type {\n",
       "        vertical-align: middle;\n",
       "    }\n",
       "\n",
       "    .dataframe tbody tr th {\n",
       "        vertical-align: top;\n",
       "    }\n",
       "\n",
       "    .dataframe thead th {\n",
       "        text-align: right;\n",
       "    }\n",
       "</style>\n",
       "<table border=\"1\" class=\"dataframe\">\n",
       "  <thead>\n",
       "    <tr style=\"text-align: right;\">\n",
       "      <th></th>\n",
       "      <th>summary</th>\n",
       "      <th>DOORS</th>\n",
       "      <th>BODY</th>\n",
       "      <th>HP</th>\n",
       "      <th>RPM</th>\n",
       "      <th>MPG</th>\n",
       "    </tr>\n",
       "  </thead>\n",
       "  <tbody>\n",
       "    <tr>\n",
       "      <th>0</th>\n",
       "      <td>count</td>\n",
       "      <td>197</td>\n",
       "      <td>197</td>\n",
       "      <td>197</td>\n",
       "      <td>197</td>\n",
       "      <td>197</td>\n",
       "    </tr>\n",
       "    <tr>\n",
       "      <th>1</th>\n",
       "      <td>mean</td>\n",
       "      <td>1.5685279187817258</td>\n",
       "      <td>1.532994923857868</td>\n",
       "      <td>103.60406091370558</td>\n",
       "      <td>5118.0203045685275</td>\n",
       "      <td>25.15228426395939</td>\n",
       "    </tr>\n",
       "    <tr>\n",
       "      <th>2</th>\n",
       "      <td>stddev</td>\n",
       "      <td>0.49654352778167493</td>\n",
       "      <td>0.5001812579359884</td>\n",
       "      <td>37.63920534951835</td>\n",
       "      <td>481.03591405011446</td>\n",
       "      <td>6.437862917085912</td>\n",
       "    </tr>\n",
       "    <tr>\n",
       "      <th>3</th>\n",
       "      <td>min</td>\n",
       "      <td>1.0</td>\n",
       "      <td>1.0</td>\n",
       "      <td>48.0</td>\n",
       "      <td>4150.0</td>\n",
       "      <td>13.0</td>\n",
       "    </tr>\n",
       "    <tr>\n",
       "      <th>4</th>\n",
       "      <td>max</td>\n",
       "      <td>2.0</td>\n",
       "      <td>2.0</td>\n",
       "      <td>262.0</td>\n",
       "      <td>6600.0</td>\n",
       "      <td>49.0</td>\n",
       "    </tr>\n",
       "  </tbody>\n",
       "</table>\n",
       "</div>"
      ],
      "text/plain": [
       "  summary                DOORS                BODY                  HP  \\\n",
       "0   count                  197                 197                 197   \n",
       "1    mean   1.5685279187817258   1.532994923857868  103.60406091370558   \n",
       "2  stddev  0.49654352778167493  0.5001812579359884   37.63920534951835   \n",
       "3     min                  1.0                 1.0                48.0   \n",
       "4     max                  2.0                 2.0               262.0   \n",
       "\n",
       "                  RPM                MPG  \n",
       "0                 197                197  \n",
       "1  5118.0203045685275  25.15228426395939  \n",
       "2  481.03591405011446  6.437862917085912  \n",
       "3              4150.0               13.0  \n",
       "4              6600.0               49.0  "
      ]
     },
     "execution_count": 17,
     "metadata": {},
     "output_type": "execute_result"
    }
   ],
   "source": [
    "# Sumarizando os dados e extraindo a média e o desvio padrão\n",
    "estats = carrosDF.describe().toPandas()\n",
    "estats"
   ]
  },
  {
   "cell_type": "code",
   "execution_count": 18,
   "metadata": {},
   "outputs": [],
   "source": [
    "# Extraindo a média e o desvio padrão\n",
    "medias = estats.iloc[1,1:6].values.tolist()\n",
    "desvios = estats.iloc[2,1:6].values.tolist()"
   ]
  },
  {
   "cell_type": "code",
   "execution_count": 19,
   "metadata": {},
   "outputs": [
    {
     "name": "stdout",
     "output_type": "stream",
     "text": [
      "['1.5685279187817258', '1.532994923857868', '103.60406091370558', '5118.0203045685275', '25.15228426395939']\n"
     ]
    }
   ],
   "source": [
    "print(medias)"
   ]
  },
  {
   "cell_type": "code",
   "execution_count": 20,
   "metadata": {},
   "outputs": [
    {
     "name": "stdout",
     "output_type": "stream",
     "text": [
      "['0.49654352778167493', '0.5001812579359884', '37.63920534951835', '481.03591405011446', '6.437862917085912']\n"
     ]
    }
   ],
   "source": [
    "print(desvios)"
   ]
  },
  {
   "cell_type": "code",
   "execution_count": 21,
   "metadata": {},
   "outputs": [],
   "source": [
    "# Colocando a média e o desvio padrão em variáves do tipo Broadcast (disponíveis em todo o cluster)\n",
    "bc_media = sc.broadcast(medias)\n",
    "bc_desvio = sc.broadcast(desvios)"
   ]
  },
  {
   "cell_type": "code",
   "execution_count": 22,
   "metadata": {},
   "outputs": [],
   "source": [
    "# Função para centralizar e aplicar escala aos dados, gerando um vetor de saída \n",
    "# Cada valor será subtraído da média e então dividido pelo desvio padrão.\n",
    "def centerAndScale(inRow):\n",
    "    \n",
    "    # Variáveis globais\n",
    "    global bc_media\n",
    "    global bc_desvio\n",
    "    \n",
    "    # Array de médias e desvios\n",
    "    meanArray = bc_media.value\n",
    "    stdArray = bc_desvio.value\n",
    "\n",
    "    # Array para o resultado\n",
    "    retArray = []\n",
    "    \n",
    "    # Loop para o cálculo\n",
    "    for i in range(len(meanArray)):\n",
    "        retArray.append( (float(inRow[i]) - float(meanArray[i])) / float(stdArray[i]) )\n",
    "        \n",
    "    return Vectors.dense(retArray)"
   ]
  },
  {
   "cell_type": "code",
   "execution_count": 23,
   "metadata": {},
   "outputs": [],
   "source": [
    "# Aplica a função\n",
    "carrosRDD4 = carrosDF.rdd.map(centerAndScale)"
   ]
  },
  {
   "cell_type": "code",
   "execution_count": 24,
   "metadata": {},
   "outputs": [
    {
     "data": {
      "text/plain": [
       "[DenseVector([-1.145, 0.9337, -0.9194, -0.4532, 0.9083]),\n",
       " DenseVector([-1.145, 0.9337, -1.4773, -0.0375, 3.3936]),\n",
       " DenseVector([-1.145, 0.9337, -0.9459, -0.2453, 0.753]),\n",
       " DenseVector([-1.145, 0.9337, -1.1053, -0.6611, 1.5297]),\n",
       " DenseVector([-1.145, 0.9337, -0.9459, 0.7941, 1.8403]),\n",
       " DenseVector([-1.145, 0.9337, -1.1585, 0.7941, 1.9956]),\n",
       " DenseVector([-1.145, -1.0656, -0.9194, 0.1704, 0.9083]),\n",
       " DenseVector([-1.145, 0.9337, -0.9459, 0.7941, 1.8403]),\n",
       " DenseVector([-1.145, 0.9337, -0.9459, 0.7941, 1.8403]),\n",
       " DenseVector([-1.145, 0.9337, -0.9459, -0.2453, 0.9083]),\n",
       " DenseVector([-1.145, 0.9337, -0.9459, 0.7941, 0.9083]),\n",
       " DenseVector([0.869, 0.9337, -0.9459, 0.7941, 0.9083]),\n",
       " DenseVector([0.869, 0.9337, -0.9459, 0.7941, 0.9083]),\n",
       " DenseVector([-1.145, 0.9337, -0.8928, 0.5862, 1.9956]),\n",
       " DenseVector([-1.145, 0.9337, -1.1053, -0.6611, 0.9083]),\n",
       " DenseVector([-1.145, 0.9337, -0.9459, 0.7941, 0.9083]),\n",
       " DenseVector([-1.145, 0.9337, -1.2116, -0.6611, 3.7043]),\n",
       " DenseVector([0.869, 0.9337, -1.1053, -0.6611, 0.9083]),\n",
       " DenseVector([-1.145, 0.9337, -0.7334, 1.8335, 0.753]),\n",
       " DenseVector([0.869, -1.0656, -0.8928, 0.5862, 1.9956]),\n",
       " DenseVector([-1.145, -1.0656, -0.9194, 0.1704, 0.9083]),\n",
       " DenseVector([-1.145, 0.9337, -0.9459, 0.7941, 0.9083]),\n",
       " DenseVector([0.869, -1.0656, -0.9459, 0.7941, 0.9083]),\n",
       " DenseVector([0.869, -1.0656, -0.9459, 0.7941, 0.9083]),\n",
       " DenseVector([0.869, -1.0656, -0.9459, -0.2453, 0.9083]),\n",
       " DenseVector([0.869, -1.0656, -0.6802, -0.6611, -0.179]),\n",
       " DenseVector([-1.145, 0.9337, -0.9459, -0.2453, 0.9083]),\n",
       " DenseVector([0.869, -1.0656, -0.9194, 0.1704, 0.9083]),\n",
       " DenseVector([-1.145, 0.9337, -0.7334, 1.8335, 0.9083]),\n",
       " DenseVector([0.869, 0.9337, -1.1053, -0.6611, 0.9083]),\n",
       " DenseVector([0.869, -1.0656, -0.8928, -0.6611, 0.753]),\n",
       " DenseVector([0.869, -1.0656, -0.4146, -0.2453, -0.0237]),\n",
       " DenseVector([-1.145, 0.9337, -0.8131, -1.4927, 0.1317]),\n",
       " DenseVector([-1.145, -1.0656, -1.2913, -0.6611, 3.083]),\n",
       " DenseVector([0.869, -1.0656, -0.574, -0.6611, 1.0637]),\n",
       " DenseVector([-1.145, 0.9337, -0.7334, 1.8335, 0.753]),\n",
       " DenseVector([0.869, 0.9337, -0.8928, -0.6611, 0.753]),\n",
       " DenseVector([0.869, -1.0656, -0.7334, 1.8335, 0.753]),\n",
       " DenseVector([0.869, 0.9337, -0.7334, 1.8335, 0.753]),\n",
       " DenseVector([-1.145, -1.0656, -0.9194, 0.1704, 0.9083]),\n",
       " DenseVector([0.869, 0.9337, -0.9194, 0.1704, 0.9083]),\n",
       " DenseVector([0.869, -1.0656, -0.9459, -0.2453, 0.9083]),\n",
       " DenseVector([0.869, 0.9337, -0.574, -0.6611, 0.4423]),\n",
       " DenseVector([0.869, -1.0656, -0.9194, 0.1704, 0.9083]),\n",
       " DenseVector([-1.145, 0.9337, -0.8131, -1.4927, 0.1317]),\n",
       " DenseVector([0.869, -1.0656, -0.9459, 0.7941, 0.9083]),\n",
       " DenseVector([0.869, -1.0656, -0.9459, 0.7941, 0.9083]),\n",
       " DenseVector([-1.145, 0.9337, -0.0426, 0.7941, -0.179]),\n",
       " DenseVector([0.869, -1.0656, -0.8928, -0.6611, 1.9956]),\n",
       " DenseVector([0.869, -1.0656, -0.574, -1.4927, 0.4423]),\n",
       " DenseVector([-1.145, -1.0656, -1.371, -0.6611, 1.8403]),\n",
       " DenseVector([0.869, 0.9337, -1.2647, -1.2848, 1.9956]),\n",
       " DenseVector([-1.145, 0.9337, -0.9194, 0.1704, 0.9083]),\n",
       " DenseVector([-1.145, 0.9337, -0.4677, 1.4177, 0.287]),\n",
       " DenseVector([0.869, 0.9337, -1.1053, -0.6611, 0.287]),\n",
       " DenseVector([0.869, -1.0656, -1.2647, -1.2848, 1.3743]),\n",
       " DenseVector([-1.145, 0.9337, -0.0426, 0.7941, -0.179]),\n",
       " DenseVector([-1.145, 0.9337, -0.0426, 0.7941, -0.179]),\n",
       " DenseVector([-1.145, -1.0656, -0.4943, 0.2744, 0.287]),\n",
       " DenseVector([0.869, -1.0656, -1.371, -0.6611, 1.8403]),\n",
       " DenseVector([0.869, 0.9337, -0.9194, 0.1704, 0.9083]),\n",
       " DenseVector([0.869, 0.9337, -0.574, -0.6611, -0.3343]),\n",
       " DenseVector([-1.145, -1.0656, -0.8928, -0.6611, 0.5977]),\n",
       " DenseVector([0.869, -1.0656, -0.4146, -0.2453, -0.0237]),\n",
       " DenseVector([0.869, -1.0656, -0.4943, 0.2744, 0.287]),\n",
       " DenseVector([-1.145, 0.9337, -0.8928, -0.6611, 0.5977]),\n",
       " DenseVector([-1.145, 0.9337, -0.9194, 0.1704, 0.9083]),\n",
       " DenseVector([0.869, 0.9337, -0.8928, -0.6611, 0.4423]),\n",
       " DenseVector([-1.145, 0.9337, 0.3293, -0.6611, -0.179]),\n",
       " DenseVector([0.869, -1.0656, -0.5208, -0.6611, 0.1317]),\n",
       " DenseVector([0.869, -1.0656, -0.4943, 0.2744, 0.287]),\n",
       " DenseVector([-1.145, 0.9337, -0.4146, -0.2453, -0.0237]),\n",
       " DenseVector([0.869, 0.9337, -1.1053, -0.6611, 0.287]),\n",
       " DenseVector([0.869, -1.0656, -0.4677, 1.4177, 0.287]),\n",
       " DenseVector([-1.145, 0.9337, -0.5208, -0.6611, 0.1317]),\n",
       " DenseVector([0.869, 0.9337, -0.4146, -0.2453, -0.179]),\n",
       " DenseVector([0.869, 0.9337, -0.4146, -0.2453, -0.179]),\n",
       " DenseVector([0.869, -1.0656, -0.3083, -1.9084, 0.5977]),\n",
       " DenseVector([0.869, 0.9337, -0.1755, 0.1704, 0.287]),\n",
       " DenseVector([-1.145, 0.9337, -0.4677, 1.4177, 0.287]),\n",
       " DenseVector([0.869, -1.0656, -0.574, -0.6611, -0.179]),\n",
       " DenseVector([0.869, -1.0656, -0.8928, -0.6611, 0.4423]),\n",
       " DenseVector([0.869, -1.0656, 0.3293, 0.7941, -0.3343]),\n",
       " DenseVector([0.869, -1.0656, 0.3293, 0.7941, -0.3343]),\n",
       " DenseVector([-1.145, -1.0656, 0.2231, 3.0808, 0.1317]),\n",
       " DenseVector([0.869, -1.0656, -0.9459, -1.2848, 1.8403]),\n",
       " DenseVector([-1.145, 0.9337, 0.2231, 3.0808, 0.1317]),\n",
       " DenseVector([0.869, -1.0656, -0.1755, 0.1704, 0.287]),\n",
       " DenseVector([-1.145, 0.9337, 0.3293, -0.6611, -0.179]),\n",
       " DenseVector([-1.145, 0.9337, 0.3293, 0.7941, -0.3343]),\n",
       " DenseVector([0.869, -1.0656, -0.2552, 0.1704, 0.1317]),\n",
       " DenseVector([-1.145, 0.9337, -0.3614, 0.7941, -0.179]),\n",
       " DenseVector([0.869, 0.9337, -0.3083, -1.9084, 0.287]),\n",
       " DenseVector([-1.145, 0.9337, 0.3293, -0.6611, -0.179]),\n",
       " DenseVector([0.869, -1.0656, -0.0958, 0.7941, 0.1317]),\n",
       " DenseVector([0.869, 0.9337, -0.2552, 0.1704, -0.0237]),\n",
       " DenseVector([0.869, -1.0656, -0.5208, -0.6611, 0.1317]),\n",
       " DenseVector([0.869, -1.0656, -0.4677, 1.4177, 0.287]),\n",
       " DenseVector([-1.145, -1.0656, -0.0958, 0.7941, -0.0237]),\n",
       " DenseVector([-1.145, 0.9337, -0.5208, -0.6611, 0.1317]),\n",
       " DenseVector([0.869, -1.0656, -0.8131, -1.2848, 0.753]),\n",
       " DenseVector([0.869, -1.0656, -0.3083, -1.9084, 0.287]),\n",
       " DenseVector([-1.145, 0.9337, -0.0692, 1.8335, -1.2663]),\n",
       " DenseVector([-1.145, 0.9337, -0.3614, -0.2453, -0.179]),\n",
       " DenseVector([-1.145, 0.9337, 0.3293, -0.6611, -0.179]),\n",
       " DenseVector([0.869, 0.9337, -0.5208, -0.6611, 0.1317]),\n",
       " DenseVector([0.869, 0.9337, -0.3083, -1.9084, 0.287]),\n",
       " DenseVector([0.869, -1.0656, 0.1965, -0.6611, -0.179]),\n",
       " DenseVector([-1.145, 0.9337, 0.3293, -0.6611, -0.179]),\n",
       " DenseVector([-1.145, 0.9337, -0.3614, 0.7941, -0.179]),\n",
       " DenseVector([0.869, 0.9337, 0.1965, -0.6611, -0.3343]),\n",
       " DenseVector([-1.145, 0.9337, -0.0692, 1.8335, -1.2663]),\n",
       " DenseVector([-1.145, 0.9337, 0.1699, 0.2744, -0.645]),\n",
       " DenseVector([0.869, -1.0656, -0.1755, -0.2453, -0.9556]),\n",
       " DenseVector([0.869, -1.0656, 0.1699, 0.2744, -0.645]),\n",
       " DenseVector([0.869, 0.9337, -0.4146, 0.7941, -0.0237]),\n",
       " DenseVector([0.869, 0.9337, -0.1755, -0.2453, -0.9556]),\n",
       " DenseVector([-1.145, 0.9337, 1.0998, -0.2453, -0.9556]),\n",
       " DenseVector([-1.145, 0.9337, 1.0998, -0.2453, -0.9556]),\n",
       " DenseVector([0.869, -1.0656, 0.2762, 0.5862, -0.3343]),\n",
       " DenseVector([0.869, -1.0656, -0.0692, 1.4177, -0.179]),\n",
       " DenseVector([-1.145, 0.9337, 1.0998, -0.2453, -0.9556]),\n",
       " DenseVector([0.869, -1.0656, -0.2286, -2.0124, 0.4423]),\n",
       " DenseVector([0.869, -1.0656, 0.1699, 0.7941, -0.9556]),\n",
       " DenseVector([0.869, 0.9337, 0.2762, 0.5862, -0.3343]),\n",
       " DenseVector([-1.145, 0.9337, 0.1965, -0.2453, -0.645]),\n",
       " DenseVector([0.869, -1.0656, 1.2858, 0.1704, -1.2663]),\n",
       " DenseVector([0.869, -1.0656, 1.2858, 0.1704, -0.9556]),\n",
       " DenseVector([-1.145, 0.9337, -0.0692, 1.8335, -1.2663]),\n",
       " DenseVector([0.869, -1.0656, -0.9459, -1.2848, 1.219]),\n",
       " DenseVector([0.869, 0.9337, -0.2286, -2.0124, -0.0237]),\n",
       " DenseVector([0.869, -1.0656, -0.0426, 0.7941, -0.179]),\n",
       " DenseVector([0.869, 0.9337, 1.2858, 0.1704, -1.2663]),\n",
       " DenseVector([-1.145, 0.9337, 1.0998, -0.2453, -0.9556]),\n",
       " DenseVector([-1.145, 0.9337, 1.0998, -0.2453, -0.9556]),\n",
       " DenseVector([-1.145, 0.9337, 0.1699, 0.2744, -0.645]),\n",
       " DenseVector([-1.145, -1.0656, 0.1699, 0.7941, -0.9556]),\n",
       " DenseVector([0.869, -1.0656, 0.1699, 0.2744, -0.645]),\n",
       " DenseVector([0.869, -1.0656, -0.2286, -0.2453, -0.9556]),\n",
       " DenseVector([-1.145, 0.9337, 0.8341, 1.8335, -1.4216]),\n",
       " DenseVector([0.869, -1.0656, 1.3921, 0.1704, -0.8003]),\n",
       " DenseVector([0.869, 0.9337, 1.3921, 0.1704, -0.9556]),\n",
       " DenseVector([0.869, -1.0656, 0.2762, 0.5862, -0.179]),\n",
       " DenseVector([-1.145, 0.9337, 1.5249, 0.1704, -0.9556]),\n",
       " DenseVector([-1.145, -1.0656, -0.0692, 1.4177, -0.3343]),\n",
       " DenseVector([-1.145, 0.9337, 0.1965, -0.2453, -0.645]),\n",
       " DenseVector([-1.145, 0.9337, 1.3389, -0.2453, -0.9556]),\n",
       " DenseVector([-1.145, 0.9337, 1.8969, -0.2453, -0.9556]),\n",
       " DenseVector([0.869, 0.9337, 0.2762, 0.5862, -0.179]),\n",
       " DenseVector([-1.145, 0.9337, 1.5249, 0.1704, -0.8003]),\n",
       " DenseVector([0.869, -1.0656, -0.1755, -0.2453, -0.9556]),\n",
       " DenseVector([0.869, 0.9337, -0.2286, -0.2453, -0.9556]),\n",
       " DenseVector([0.869, -1.0656, 0.2762, 0.5862, -0.3343]),\n",
       " DenseVector([0.869, -1.0656, -0.2286, -2.0124, 0.4423]),\n",
       " DenseVector([0.869, -1.0656, -0.0692, 1.4177, -0.3343]),\n",
       " DenseVector([0.869, 0.9337, -0.2286, -2.0124, -0.0237]),\n",
       " DenseVector([-1.145, 0.9337, 1.4983, 0.1704, -0.9556]),\n",
       " DenseVector([0.869, -1.0656, 0.3028, 0.7941, -1.111]),\n",
       " DenseVector([-1.145, 0.9337, 0.3293, -0.6611, -0.179]),\n",
       " DenseVector([0.869, -1.0656, 0.1699, 0.7941, -0.9556]),\n",
       " DenseVector([0.869, -1.0656, -0.2286, -2.0124, 0.4423]),\n",
       " DenseVector([0.869, -1.0656, 1.0201, 1.002, -1.111]),\n",
       " DenseVector([-1.145, 0.9337, 1.4983, 0.7941, -0.9556]),\n",
       " DenseVector([0.869, -1.0656, 0.4356, -0.2453, -0.9556]),\n",
       " DenseVector([0.869, -1.0656, -0.8397, -1.9084, 0.9083]),\n",
       " DenseVector([-1.145, 0.9337, 1.4983, 0.1704, -0.9556]),\n",
       " DenseVector([0.869, -1.0656, 1.5515, -0.0375, -1.2663]),\n",
       " DenseVector([0.869, -1.0656, 1.4983, 0.7941, -0.9556]),\n",
       " DenseVector([0.869, 0.9337, 0.1699, 0.7941, -0.9556]),\n",
       " DenseVector([0.869, 0.9337, 1.5515, -0.0375, -1.2663]),\n",
       " DenseVector([0.869, -1.0656, 1.4983, 0.3783, -0.9556]),\n",
       " DenseVector([-1.145, 0.9337, 2.5611, 0.1704, -1.2663]),\n",
       " DenseVector([-1.145, -1.0656, 0.4622, -1.8045, -0.645]),\n",
       " DenseVector([0.869, -1.0656, 0.4622, -1.8045, -0.645]),\n",
       " DenseVector([0.869, -1.0656, 0.8076, 0.7941, -1.111]),\n",
       " DenseVector([-1.145, 0.9337, 1.0467, 0.7941, -0.9556]),\n",
       " DenseVector([0.869, -1.0656, 0.0637, -0.6611, 0.1317]),\n",
       " DenseVector([0.869, -1.0656, 0.2762, 0.5862, -0.9556]),\n",
       " DenseVector([0.869, -1.0656, 0.967, 0.7941, -1.2663]),\n",
       " DenseVector([0.869, -1.0656, 0.4622, -1.8045, -0.8003]),\n",
       " DenseVector([0.869, -1.0656, 0.5153, -1.5966, -0.4896]),\n",
       " DenseVector([-1.145, 0.9337, 0.5153, -1.5966, -0.4896]),\n",
       " DenseVector([0.869, 0.9337, 0.5153, -1.5966, -0.4896]),\n",
       " DenseVector([0.869, -1.0656, 2.0828, 0.5862, -1.4216]),\n",
       " DenseVector([0.869, -1.0656, 0.5153, -1.5966, -0.4896]),\n",
       " DenseVector([0.869, -1.0656, 1.9234, -0.7651, -1.577]),\n",
       " DenseVector([-1.145, 0.9337, 2.747, 1.6256, -1.2663]),\n",
       " DenseVector([-1.145, 0.9337, 2.747, 1.6256, -1.2663]),\n",
       " DenseVector([0.869, -1.0656, 1.3655, -0.7651, -1.4216]),\n",
       " DenseVector([-1.145, 0.9337, 1.3655, -0.7651, -1.4216]),\n",
       " DenseVector([0.869, -1.0656, 1.9234, -0.7651, -1.577]),\n",
       " DenseVector([-1.145, -1.0656, 4.2083, -0.2453, -1.8876]),\n",
       " DenseVector([0.869, -1.0656, 2.0828, 0.5862, -1.577]),\n",
       " DenseVector([-1.145, 0.9337, 2.747, 1.6256, -1.2663]),\n",
       " DenseVector([0.869, -1.0656, 2.136, -1.2848, -1.7323]),\n",
       " DenseVector([-1.145, -1.0656, 2.0828, 0.5862, -1.4216]),\n",
       " DenseVector([-1.145, 0.9337, 2.136, -1.2848, -1.7323])]"
      ]
     },
     "execution_count": 24,
     "metadata": {},
     "output_type": "execute_result"
    }
   ],
   "source": [
    "carrosRDD4.collect()"
   ]
  },
  {
   "cell_type": "code",
   "execution_count": 25,
   "metadata": {},
   "outputs": [
    {
     "name": "stdout",
     "output_type": "stream",
     "text": [
      "+--------------------+\n",
      "|            features|\n",
      "+--------------------+\n",
      "|[-1.1449709581789...|\n",
      "|[-1.1449709581789...|\n",
      "|[-1.1449709581789...|\n",
      "|[-1.1449709581789...|\n",
      "|[-1.1449709581789...|\n",
      "|[-1.1449709581789...|\n",
      "|[-1.1449709581789...|\n",
      "|[-1.1449709581789...|\n",
      "|[-1.1449709581789...|\n",
      "|[-1.1449709581789...|\n",
      "|[-1.1449709581789...|\n",
      "|[0.86895117361793...|\n",
      "|[0.86895117361793...|\n",
      "|[-1.1449709581789...|\n",
      "|[-1.1449709581789...|\n",
      "+--------------------+\n",
      "only showing top 15 rows\n",
      "\n"
     ]
    }
   ],
   "source": [
    "# Criando um Dataframe\n",
    "carrosRDD5 = carrosRDD4.map(lambda f:Row(features = f))\n",
    "carrosDF = spSession.createDataFrame(carrosRDD5)\n",
    "carrosDF.select(\"features\").show(15)"
   ]
  },
  {
   "cell_type": "markdown",
   "metadata": {},
   "source": [
    "## Machine Learning"
   ]
  },
  {
   "cell_type": "code",
   "execution_count": 26,
   "metadata": {},
   "outputs": [],
   "source": [
    "# Criando o modelo\n",
    "kmeans = KMeans(k = 3, seed = 1)"
   ]
  },
  {
   "cell_type": "code",
   "execution_count": 27,
   "metadata": {},
   "outputs": [
    {
     "name": "stderr",
     "output_type": "stream",
     "text": [
      "\r",
      "[Stage 14:>                                                         (0 + 2) / 2]\r",
      "\r",
      "                                                                                \r"
     ]
    }
   ],
   "source": [
    "# Treina o modelo\n",
    "modelo = kmeans.fit(carrosDF)"
   ]
  },
  {
   "cell_type": "code",
   "execution_count": 28,
   "metadata": {},
   "outputs": [
    {
     "name": "stdout",
     "output_type": "stream",
     "text": [
      "+--------------------+----------+\n",
      "|            features|prediction|\n",
      "+--------------------+----------+\n",
      "|[-1.1449709581789...|         2|\n",
      "|[-1.1449709581789...|         2|\n",
      "|[-1.1449709581789...|         2|\n",
      "|[-1.1449709581789...|         2|\n",
      "|[-1.1449709581789...|         2|\n",
      "|[-1.1449709581789...|         2|\n",
      "|[-1.1449709581789...|         2|\n",
      "|[-1.1449709581789...|         2|\n",
      "|[-1.1449709581789...|         2|\n",
      "|[-1.1449709581789...|         2|\n",
      "|[-1.1449709581789...|         2|\n",
      "|[0.86895117361793...|         1|\n",
      "|[0.86895117361793...|         1|\n",
      "|[-1.1449709581789...|         2|\n",
      "|[-1.1449709581789...|         2|\n",
      "|[-1.1449709581789...|         2|\n",
      "|[-1.1449709581789...|         2|\n",
      "|[0.86895117361793...|         1|\n",
      "|[-1.1449709581789...|         2|\n",
      "|[0.86895117361793...|         1|\n",
      "+--------------------+----------+\n",
      "only showing top 20 rows\n",
      "\n"
     ]
    }
   ],
   "source": [
    "# Previsões\n",
    "previsoes = modelo.transform(carrosDF)\n",
    "previsoes.show()"
   ]
  },
  {
   "cell_type": "code",
   "execution_count": 29,
   "metadata": {},
   "outputs": [],
   "source": [
    "# Função para extrair os atributos das previsões\n",
    "def unstripData(instr) :\n",
    "    return (instr[\"prediction\"], \n",
    "            instr[\"features\"][0], \n",
    "            instr[\"features\"][1], \n",
    "            instr[\"features\"][2], \n",
    "            instr[\"features\"][3],\n",
    "            instr[\"features\"][4])"
   ]
  },
  {
   "cell_type": "code",
   "execution_count": 30,
   "metadata": {},
   "outputs": [],
   "source": [
    "# Aplica a função nas previsões\n",
    "carrosRDD6 = previsoes.rdd.map(unstripData)"
   ]
  },
  {
   "cell_type": "code",
   "execution_count": 31,
   "metadata": {},
   "outputs": [],
   "source": [
    "predList = carrosRDD6.collect()"
   ]
  },
  {
   "cell_type": "code",
   "execution_count": 32,
   "metadata": {},
   "outputs": [],
   "source": [
    "# Converte em DataFrame do Pandas\n",
    "predPd = pd.DataFrame(predList)"
   ]
  },
  {
   "cell_type": "code",
   "execution_count": 33,
   "metadata": {},
   "outputs": [
    {
     "data": {
      "text/html": [
       "<div>\n",
       "<style scoped>\n",
       "    .dataframe tbody tr th:only-of-type {\n",
       "        vertical-align: middle;\n",
       "    }\n",
       "\n",
       "    .dataframe tbody tr th {\n",
       "        vertical-align: top;\n",
       "    }\n",
       "\n",
       "    .dataframe thead th {\n",
       "        text-align: right;\n",
       "    }\n",
       "</style>\n",
       "<table border=\"1\" class=\"dataframe\">\n",
       "  <thead>\n",
       "    <tr style=\"text-align: right;\">\n",
       "      <th></th>\n",
       "      <th>0</th>\n",
       "      <th>1</th>\n",
       "      <th>2</th>\n",
       "      <th>3</th>\n",
       "      <th>4</th>\n",
       "      <th>5</th>\n",
       "    </tr>\n",
       "  </thead>\n",
       "  <tbody>\n",
       "    <tr>\n",
       "      <th>0</th>\n",
       "      <td>2</td>\n",
       "      <td>-1.144971</td>\n",
       "      <td>0.933672</td>\n",
       "      <td>-0.919362</td>\n",
       "      <td>-0.453231</td>\n",
       "      <td>0.908332</td>\n",
       "    </tr>\n",
       "    <tr>\n",
       "      <th>1</th>\n",
       "      <td>2</td>\n",
       "      <td>-1.144971</td>\n",
       "      <td>0.933672</td>\n",
       "      <td>-1.477291</td>\n",
       "      <td>-0.037461</td>\n",
       "      <td>3.393629</td>\n",
       "    </tr>\n",
       "    <tr>\n",
       "      <th>2</th>\n",
       "      <td>2</td>\n",
       "      <td>-1.144971</td>\n",
       "      <td>0.933672</td>\n",
       "      <td>-0.945930</td>\n",
       "      <td>-0.245346</td>\n",
       "      <td>0.753001</td>\n",
       "    </tr>\n",
       "    <tr>\n",
       "      <th>3</th>\n",
       "      <td>2</td>\n",
       "      <td>-1.144971</td>\n",
       "      <td>0.933672</td>\n",
       "      <td>-1.105338</td>\n",
       "      <td>-0.661116</td>\n",
       "      <td>1.529656</td>\n",
       "    </tr>\n",
       "    <tr>\n",
       "      <th>4</th>\n",
       "      <td>2</td>\n",
       "      <td>-1.144971</td>\n",
       "      <td>0.933672</td>\n",
       "      <td>-0.945930</td>\n",
       "      <td>0.794077</td>\n",
       "      <td>1.840318</td>\n",
       "    </tr>\n",
       "    <tr>\n",
       "      <th>5</th>\n",
       "      <td>2</td>\n",
       "      <td>-1.144971</td>\n",
       "      <td>0.933672</td>\n",
       "      <td>-1.158475</td>\n",
       "      <td>0.794077</td>\n",
       "      <td>1.995649</td>\n",
       "    </tr>\n",
       "    <tr>\n",
       "      <th>6</th>\n",
       "      <td>2</td>\n",
       "      <td>-1.144971</td>\n",
       "      <td>-1.065604</td>\n",
       "      <td>-0.919362</td>\n",
       "      <td>0.170423</td>\n",
       "      <td>0.908332</td>\n",
       "    </tr>\n",
       "    <tr>\n",
       "      <th>7</th>\n",
       "      <td>2</td>\n",
       "      <td>-1.144971</td>\n",
       "      <td>0.933672</td>\n",
       "      <td>-0.945930</td>\n",
       "      <td>0.794077</td>\n",
       "      <td>1.840318</td>\n",
       "    </tr>\n",
       "    <tr>\n",
       "      <th>8</th>\n",
       "      <td>2</td>\n",
       "      <td>-1.144971</td>\n",
       "      <td>0.933672</td>\n",
       "      <td>-0.945930</td>\n",
       "      <td>0.794077</td>\n",
       "      <td>1.840318</td>\n",
       "    </tr>\n",
       "    <tr>\n",
       "      <th>9</th>\n",
       "      <td>2</td>\n",
       "      <td>-1.144971</td>\n",
       "      <td>0.933672</td>\n",
       "      <td>-0.945930</td>\n",
       "      <td>-0.245346</td>\n",
       "      <td>0.908332</td>\n",
       "    </tr>\n",
       "    <tr>\n",
       "      <th>10</th>\n",
       "      <td>2</td>\n",
       "      <td>-1.144971</td>\n",
       "      <td>0.933672</td>\n",
       "      <td>-0.945930</td>\n",
       "      <td>0.794077</td>\n",
       "      <td>0.908332</td>\n",
       "    </tr>\n",
       "    <tr>\n",
       "      <th>11</th>\n",
       "      <td>1</td>\n",
       "      <td>0.868951</td>\n",
       "      <td>0.933672</td>\n",
       "      <td>-0.945930</td>\n",
       "      <td>0.794077</td>\n",
       "      <td>0.908332</td>\n",
       "    </tr>\n",
       "    <tr>\n",
       "      <th>12</th>\n",
       "      <td>1</td>\n",
       "      <td>0.868951</td>\n",
       "      <td>0.933672</td>\n",
       "      <td>-0.945930</td>\n",
       "      <td>0.794077</td>\n",
       "      <td>0.908332</td>\n",
       "    </tr>\n",
       "    <tr>\n",
       "      <th>13</th>\n",
       "      <td>2</td>\n",
       "      <td>-1.144971</td>\n",
       "      <td>0.933672</td>\n",
       "      <td>-0.892794</td>\n",
       "      <td>0.586193</td>\n",
       "      <td>1.995649</td>\n",
       "    </tr>\n",
       "    <tr>\n",
       "      <th>14</th>\n",
       "      <td>2</td>\n",
       "      <td>-1.144971</td>\n",
       "      <td>0.933672</td>\n",
       "      <td>-1.105338</td>\n",
       "      <td>-0.661116</td>\n",
       "      <td>0.908332</td>\n",
       "    </tr>\n",
       "    <tr>\n",
       "      <th>15</th>\n",
       "      <td>2</td>\n",
       "      <td>-1.144971</td>\n",
       "      <td>0.933672</td>\n",
       "      <td>-0.945930</td>\n",
       "      <td>0.794077</td>\n",
       "      <td>0.908332</td>\n",
       "    </tr>\n",
       "    <tr>\n",
       "      <th>16</th>\n",
       "      <td>2</td>\n",
       "      <td>-1.144971</td>\n",
       "      <td>0.933672</td>\n",
       "      <td>-1.211611</td>\n",
       "      <td>-0.661116</td>\n",
       "      <td>3.704291</td>\n",
       "    </tr>\n",
       "    <tr>\n",
       "      <th>17</th>\n",
       "      <td>1</td>\n",
       "      <td>0.868951</td>\n",
       "      <td>0.933672</td>\n",
       "      <td>-1.105338</td>\n",
       "      <td>-0.661116</td>\n",
       "      <td>0.908332</td>\n",
       "    </tr>\n",
       "    <tr>\n",
       "      <th>18</th>\n",
       "      <td>2</td>\n",
       "      <td>-1.144971</td>\n",
       "      <td>0.933672</td>\n",
       "      <td>-0.733386</td>\n",
       "      <td>1.833501</td>\n",
       "      <td>0.753001</td>\n",
       "    </tr>\n",
       "    <tr>\n",
       "      <th>19</th>\n",
       "      <td>1</td>\n",
       "      <td>0.868951</td>\n",
       "      <td>-1.065604</td>\n",
       "      <td>-0.892794</td>\n",
       "      <td>0.586193</td>\n",
       "      <td>1.995649</td>\n",
       "    </tr>\n",
       "  </tbody>\n",
       "</table>\n",
       "</div>"
      ],
      "text/plain": [
       "    0         1         2         3         4         5\n",
       "0   2 -1.144971  0.933672 -0.919362 -0.453231  0.908332\n",
       "1   2 -1.144971  0.933672 -1.477291 -0.037461  3.393629\n",
       "2   2 -1.144971  0.933672 -0.945930 -0.245346  0.753001\n",
       "3   2 -1.144971  0.933672 -1.105338 -0.661116  1.529656\n",
       "4   2 -1.144971  0.933672 -0.945930  0.794077  1.840318\n",
       "5   2 -1.144971  0.933672 -1.158475  0.794077  1.995649\n",
       "6   2 -1.144971 -1.065604 -0.919362  0.170423  0.908332\n",
       "7   2 -1.144971  0.933672 -0.945930  0.794077  1.840318\n",
       "8   2 -1.144971  0.933672 -0.945930  0.794077  1.840318\n",
       "9   2 -1.144971  0.933672 -0.945930 -0.245346  0.908332\n",
       "10  2 -1.144971  0.933672 -0.945930  0.794077  0.908332\n",
       "11  1  0.868951  0.933672 -0.945930  0.794077  0.908332\n",
       "12  1  0.868951  0.933672 -0.945930  0.794077  0.908332\n",
       "13  2 -1.144971  0.933672 -0.892794  0.586193  1.995649\n",
       "14  2 -1.144971  0.933672 -1.105338 -0.661116  0.908332\n",
       "15  2 -1.144971  0.933672 -0.945930  0.794077  0.908332\n",
       "16  2 -1.144971  0.933672 -1.211611 -0.661116  3.704291\n",
       "17  1  0.868951  0.933672 -1.105338 -0.661116  0.908332\n",
       "18  2 -1.144971  0.933672 -0.733386  1.833501  0.753001\n",
       "19  1  0.868951 -1.065604 -0.892794  0.586193  1.995649"
      ]
     },
     "execution_count": 33,
     "metadata": {},
     "output_type": "execute_result"
    }
   ],
   "source": [
    "predPd.head(20)"
   ]
  },
  {
   "cell_type": "code",
   "execution_count": 34,
   "metadata": {},
   "outputs": [
    {
     "data": {
      "text/plain": [
       "<matplotlib.collections.PathCollection at 0x7fcd8ec37730>"
      ]
     },
     "execution_count": 34,
     "metadata": {},
     "output_type": "execute_result"
    },
    {
     "data": {
      "image/png": "[encoded data removed]",
      "text/plain": [
       "<Figure size 432x288 with 1 Axes>"
      ]
     },
     "metadata": {
      "needs_background": "light"
     },
     "output_type": "display_data"
    }
   ],
   "source": [
    "# Gráfico com o resultados dos clusters criados\n",
    "plt.cla()\n",
    "plt.scatter(predPd[3], predPd[4], c = predPd[0])"
   ]
  },
  {
   "cell_type": "markdown",
   "metadata": {},
   "source": [
    "# Fim"
   ]
  }
 ],
 "metadata": {
  "anaconda-cloud": {},
  "kernelspec": {
   "display_name": "Python 3 (ipykernel)",
   "language": "python",
   "name": "python3"
  },
  "language_info": {
   "codemirror_mode": {
    "name": "ipython",
    "version": 3
   },
   "file_extension": ".py",
   "mimetype": "text/x-python",
   "name": "python",
   "nbconvert_exporter": "python",
   "pygments_lexer": "ipython3",
   "version": "3.9.7"
  }
 },
 "nbformat": 4,
 "nbformat_minor": 1
}
