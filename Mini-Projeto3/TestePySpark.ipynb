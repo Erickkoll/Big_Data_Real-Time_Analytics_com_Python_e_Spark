{
 "cells": [
  {
   "cell_type": "markdown",
   "id": "7bf3981f",
   "metadata": {},
   "source": [
    "# Testando a Instalação do PySpark"
   ]
  },
  {
   "cell_type": "code",
   "execution_count": 1,
   "id": "33f4f56f",
   "metadata": {},
   "outputs": [
    {
     "name": "stdout",
     "output_type": "stream",
     "text": [
      "Requirement already satisfied: findspark in /Users/dmpm/opt/anaconda3/lib/python3.9/site-packages (2.0.1)\r\n"
     ]
    }
   ],
   "source": [
    "!pip install findspark"
   ]
  },
  {
   "cell_type": "code",
   "execution_count": 2,
   "id": "f9fb6082",
   "metadata": {},
   "outputs": [],
   "source": [
    "import findspark\n",
    "findspark.init()"
   ]
  },
  {
   "cell_type": "code",
   "execution_count": 3,
   "id": "6e053931",
   "metadata": {},
   "outputs": [],
   "source": [
    "import pyspark\n",
    "import random"
   ]
  },
  {
   "cell_type": "code",
   "execution_count": 4,
   "id": "9b010ad7",
   "metadata": {},
   "outputs": [
    {
     "name": "stdout",
     "output_type": "stream",
     "text": [
      "22/07/07 09:46:22 WARN Utils: Your hostname, falcon.local resolves to a loopback address: 127.0.0.1; using 10.0.0.84 instead (on interface en0)\n",
      "22/07/07 09:46:22 WARN Utils: Set SPARK_LOCAL_IP if you need to bind to another address\n"
     ]
    },
    {
     "name": "stderr",
     "output_type": "stream",
     "text": [
      "Setting default log level to \"WARN\".\n",
      "To adjust logging level use sc.setLogLevel(newLevel). For SparkR, use setLogLevel(newLevel).\n"
     ]
    },
    {
     "name": "stdout",
     "output_type": "stream",
     "text": [
      "22/07/07 09:46:23 WARN NativeCodeLoader: Unable to load native-hadoop library for your platform... using builtin-java classes where applicable\n"
     ]
    }
   ],
   "source": [
    "sc = pyspark.SparkContext(appName = \"TestePySpark\")"
   ]
  },
  {
   "cell_type": "code",
   "execution_count": 5,
   "id": "bde2c5bb",
   "metadata": {},
   "outputs": [],
   "source": [
    "sc.setLogLevel(\"INFO\")"
   ]
  },
  {
   "cell_type": "code",
   "execution_count": 6,
   "id": "d2581187",
   "metadata": {},
   "outputs": [
    {
     "data": {
      "text/html": [
       "\n",
       "        <div>\n",
       "            <p><b>SparkContext</b></p>\n",
       "\n",
       "            <p><a href=\"http://10.0.0.84:4040\">Spark UI</a></p>\n",
       "\n",
       "            <dl>\n",
       "              <dt>Version</dt>\n",
       "                <dd><code>v3.3.0</code></dd>\n",
       "              <dt>Master</dt>\n",
       "                <dd><code>local[*]</code></dd>\n",
       "              <dt>AppName</dt>\n",
       "                <dd><code>TestePySpark</code></dd>\n",
       "            </dl>\n",
       "        </div>\n",
       "        "
      ],
      "text/plain": [
       "<SparkContext master=local[*] appName=TestePySpark>"
      ]
     },
     "execution_count": 6,
     "metadata": {},
     "output_type": "execute_result"
    }
   ],
   "source": [
    "sc"
   ]
  },
  {
   "cell_type": "code",
   "execution_count": 7,
   "id": "ac3ab624",
   "metadata": {},
   "outputs": [],
   "source": [
    "numero_amostras = 1000000"
   ]
  },
  {
   "cell_type": "code",
   "execution_count": 8,
   "id": "211361d0",
   "metadata": {},
   "outputs": [],
   "source": [
    "# Função para gerar valores randômicos\n",
    "def gera_numeros(p):     \n",
    "    x, y = random.random(), random.random()\n",
    "    return x*x + y*y < 1"
   ]
  },
  {
   "cell_type": "code",
   "execution_count": 9,
   "id": "70cda04a",
   "metadata": {},
   "outputs": [
    {
     "name": "stdout",
     "output_type": "stream",
     "text": [
      "22/07/07 09:46:26 INFO SparkContext: Starting job: count at /var/folders/dc/lqrc3k5j4438r150cbrdr_000000gn/T/ipykernel_949/1598053858.py:2\n",
      "22/07/07 09:46:26 INFO DAGScheduler: Got job 0 (count at /var/folders/dc/lqrc3k5j4438r150cbrdr_000000gn/T/ipykernel_949/1598053858.py:2) with 8 output partitions\n",
      "22/07/07 09:46:26 INFO DAGScheduler: Final stage: ResultStage 0 (count at /var/folders/dc/lqrc3k5j4438r150cbrdr_000000gn/T/ipykernel_949/1598053858.py:2)\n",
      "22/07/07 09:46:26 INFO DAGScheduler: Parents of final stage: List()\n",
      "22/07/07 09:46:26 INFO DAGScheduler: Missing parents: List()\n",
      "22/07/07 09:46:26 INFO DAGScheduler: Submitting ResultStage 0 (PythonRDD[1] at count at /var/folders/dc/lqrc3k5j4438r150cbrdr_000000gn/T/ipykernel_949/1598053858.py:2), which has no missing parents\n",
      "22/07/07 09:46:26 INFO MemoryStore: Block broadcast_0 stored as values in memory (estimated size 8.8 KiB, free 434.4 MiB)\n"
     ]
    },
    {
     "name": "stderr",
     "output_type": "stream",
     "text": [
      "\r",
      "[Stage 0:>                                                          (0 + 0) / 8]\r"
     ]
    },
    {
     "name": "stdout",
     "output_type": "stream",
     "text": [
      "22/07/07 09:46:27 INFO MemoryStore: Block broadcast_0_piece0 stored as bytes in memory (estimated size 5.2 KiB, free 434.4 MiB)\n",
      "22/07/07 09:46:27 INFO BlockManagerInfo: Added broadcast_0_piece0 in memory on 10.0.0.84:49411 (size: 5.2 KiB, free: 434.4 MiB)\n",
      "22/07/07 09:46:27 INFO SparkContext: Created broadcast 0 from broadcast at DAGScheduler.scala:1513\n",
      "22/07/07 09:46:27 INFO DAGScheduler: Submitting 8 missing tasks from ResultStage 0 (PythonRDD[1] at count at /var/folders/dc/lqrc3k5j4438r150cbrdr_000000gn/T/ipykernel_949/1598053858.py:2) (first 15 tasks are for partitions Vector(0, 1, 2, 3, 4, 5, 6, 7))\n",
      "22/07/07 09:46:27 INFO TaskSchedulerImpl: Adding task set 0.0 with 8 tasks resource profile 0\n",
      "22/07/07 09:46:27 INFO TaskSetManager: Starting task 0.0 in stage 0.0 (TID 0) (10.0.0.84, executor driver, partition 0, PROCESS_LOCAL, 4433 bytes) taskResourceAssignments Map()\n",
      "22/07/07 09:46:27 INFO TaskSetManager: Starting task 1.0 in stage 0.0 (TID 1) (10.0.0.84, executor driver, partition 1, PROCESS_LOCAL, 4433 bytes) taskResourceAssignments Map()\n",
      "22/07/07 09:46:27 INFO TaskSetManager: Starting task 2.0 in stage 0.0 (TID 2) (10.0.0.84, executor driver, partition 2, PROCESS_LOCAL, 4433 bytes) taskResourceAssignments Map()\n",
      "22/07/07 09:46:27 INFO TaskSetManager: Starting task 3.0 in stage 0.0 (TID 3) (10.0.0.84, executor driver, partition 3, PROCESS_LOCAL, 4433 bytes) taskResourceAssignments Map()\n",
      "22/07/07 09:46:27 INFO TaskSetManager: Starting task 4.0 in stage 0.0 (TID 4) (10.0.0.84, executor driver, partition 4, PROCESS_LOCAL, 4433 bytes) taskResourceAssignments Map()\n",
      "22/07/07 09:46:27 INFO TaskSetManager: Starting task 5.0 in stage 0.0 (TID 5) (10.0.0.84, executor driver, partition 5, PROCESS_LOCAL, 4433 bytes) taskResourceAssignments Map()\n",
      "22/07/07 09:46:27 INFO TaskSetManager: Starting task 6.0 in stage 0.0 (TID 6) (10.0.0.84, executor driver, partition 6, PROCESS_LOCAL, 4433 bytes) taskResourceAssignments Map()\n",
      "22/07/07 09:46:27 INFO TaskSetManager: Starting task 7.0 in stage 0.0 (TID 7) (10.0.0.84, executor driver, partition 7, PROCESS_LOCAL, 4433 bytes) taskResourceAssignments Map()\n",
      "22/07/07 09:46:27 INFO Executor: Running task 0.0 in stage 0.0 (TID 0)\n",
      "22/07/07 09:46:27 INFO Executor: Running task 6.0 in stage 0.0 (TID 6)\n",
      "22/07/07 09:46:27 INFO Executor: Running task 2.0 in stage 0.0 (TID 2)\n",
      "22/07/07 09:46:27 INFO Executor: Running task 5.0 in stage 0.0 (TID 5)\n",
      "22/07/07 09:46:27 INFO Executor: Running task 4.0 in stage 0.0 (TID 4)\n",
      "22/07/07 09:46:27 INFO Executor: Running task 1.0 in stage 0.0 (TID 1)\n",
      "22/07/07 09:46:27 INFO Executor: Running task 7.0 in stage 0.0 (TID 7)\n",
      "22/07/07 09:46:27 INFO Executor: Running task 3.0 in stage 0.0 (TID 3)\n"
     ]
    },
    {
     "name": "stderr",
     "output_type": "stream",
     "text": [
      "\r",
      "[Stage 0:>                                                          (0 + 8) / 8]\r"
     ]
    },
    {
     "name": "stdout",
     "output_type": "stream",
     "text": [
      "22/07/07 09:46:28 INFO PythonRunner: Times: total = 1238, boot = 1104, init = 7, finish = 127\n",
      "22/07/07 09:46:28 INFO PythonRunner: Times: total = 1244, boot = 1098, init = 13, finish = 133\n",
      "22/07/07 09:46:28 INFO PythonRunner: Times: total = 1250, boot = 1111, init = 4, finish = 135\n",
      "22/07/07 09:46:28 INFO Executor: Finished task 7.0 in stage 0.0 (TID 7). 1322 bytes result sent to driver\n",
      "22/07/07 09:46:28 INFO Executor: Finished task 6.0 in stage 0.0 (TID 6). 1322 bytes result sent to driver\n",
      "22/07/07 09:46:28 INFO Executor: Finished task 1.0 in stage 0.0 (TID 1). 1322 bytes result sent to driver\n",
      "22/07/07 09:46:28 INFO PythonRunner: Times: total = 1271, boot = 1117, init = 5, finish = 149\n",
      "22/07/07 09:46:28 INFO Executor: Finished task 3.0 in stage 0.0 (TID 3). 1322 bytes result sent to driver\n",
      "22/07/07 09:46:28 INFO TaskSetManager: Finished task 1.0 in stage 0.0 (TID 1) in 1414 ms on 10.0.0.84 (executor driver) (1/8)\n",
      "22/07/07 09:46:28 INFO TaskSetManager: Finished task 6.0 in stage 0.0 (TID 6) in 1413 ms on 10.0.0.84 (executor driver) (2/8)\n",
      "22/07/07 09:46:28 INFO TaskSetManager: Finished task 7.0 in stage 0.0 (TID 7) in 1412 ms on 10.0.0.84 (executor driver) (3/8)\n",
      "22/07/07 09:46:28 INFO TaskSetManager: Finished task 3.0 in stage 0.0 (TID 3) in 1418 ms on 10.0.0.84 (executor driver) (4/8)\n",
      "22/07/07 09:46:28 INFO PythonAccumulatorV2: Connected to AccumulatorServer at host: 127.0.0.1 port: 49412\n",
      "22/07/07 09:46:28 INFO PythonRunner: Times: total = 1302, boot = 1125, init = 6, finish = 171\n",
      "22/07/07 09:46:28 INFO Executor: Finished task 2.0 in stage 0.0 (TID 2). 1322 bytes result sent to driver\n",
      "22/07/07 09:46:28 INFO TaskSetManager: Finished task 2.0 in stage 0.0 (TID 2) in 1434 ms on 10.0.0.84 (executor driver) (5/8)\n",
      "22/07/07 09:46:28 INFO PythonRunner: Times: total = 1314, boot = 1134, init = 11, finish = 169\n",
      "22/07/07 09:46:28 INFO Executor: Finished task 5.0 in stage 0.0 (TID 5). 1322 bytes result sent to driver\n",
      "22/07/07 09:46:28 INFO TaskSetManager: Finished task 5.0 in stage 0.0 (TID 5) in 1443 ms on 10.0.0.84 (executor driver) (6/8)\n",
      "22/07/07 09:46:28 INFO PythonRunner: Times: total = 1355, boot = 1142, init = 23, finish = 190\n",
      "22/07/07 09:46:28 INFO Executor: Finished task 4.0 in stage 0.0 (TID 4). 1322 bytes result sent to driver\n",
      "22/07/07 09:46:28 INFO TaskSetManager: Finished task 4.0 in stage 0.0 (TID 4) in 1487 ms on 10.0.0.84 (executor driver) (7/8)\n",
      "22/07/07 09:46:28 INFO PythonRunner: Times: total = 1378, boot = 1161, init = 29, finish = 188\n",
      "22/07/07 09:46:28 INFO Executor: Finished task 0.0 in stage 0.0 (TID 0). 1322 bytes result sent to driver\n",
      "22/07/07 09:46:28 INFO TaskSetManager: Finished task 0.0 in stage 0.0 (TID 0) in 1532 ms on 10.0.0.84 (executor driver) (8/8)\n",
      "22/07/07 09:46:28 INFO TaskSchedulerImpl: Removed TaskSet 0.0, whose tasks have all completed, from pool \n",
      "22/07/07 09:46:28 INFO DAGScheduler: ResultStage 0 (count at /var/folders/dc/lqrc3k5j4438r150cbrdr_000000gn/T/ipykernel_949/1598053858.py:2) finished in 2.300 s\n",
      "22/07/07 09:46:28 INFO DAGScheduler: Job 0 is finished. Cancelling potential speculative or zombie tasks for this job\n",
      "22/07/07 09:46:28 INFO TaskSchedulerImpl: Killing all running tasks in stage 0: Stage finished\n",
      "22/07/07 09:46:28 INFO DAGScheduler: Job 0 finished: count at /var/folders/dc/lqrc3k5j4438r150cbrdr_000000gn/T/ipykernel_949/1598053858.py:2, took 2.360090 s\n"
     ]
    },
    {
     "name": "stderr",
     "output_type": "stream",
     "text": [
      "\r",
      "                                                                                \r"
     ]
    }
   ],
   "source": [
    "# Função parallelize() executa paralelização de operações\n",
    "contagem = sc.parallelize(range(0, numero_amostras)).filter(gera_numeros).count()"
   ]
  },
  {
   "cell_type": "code",
   "execution_count": 10,
   "id": "e3d526aa",
   "metadata": {},
   "outputs": [],
   "source": [
    "valor_pi = 4 * contagem / numero_amostras"
   ]
  },
  {
   "cell_type": "code",
   "execution_count": 11,
   "id": "60d63f9e",
   "metadata": {},
   "outputs": [
    {
     "name": "stdout",
     "output_type": "stream",
     "text": [
      "3.142208\n"
     ]
    }
   ],
   "source": [
    "print(valor_pi)"
   ]
  },
  {
   "cell_type": "code",
   "execution_count": 12,
   "id": "c7a1b154",
   "metadata": {},
   "outputs": [
    {
     "name": "stdout",
     "output_type": "stream",
     "text": [
      "22/07/07 09:46:28 INFO SparkUI: Stopped Spark web UI at http://10.0.0.84:4040\n",
      "22/07/07 09:46:28 INFO MapOutputTrackerMasterEndpoint: MapOutputTrackerMasterEndpoint stopped!\n",
      "22/07/07 09:46:28 INFO MemoryStore: MemoryStore cleared\n",
      "22/07/07 09:46:28 INFO BlockManager: BlockManager stopped\n",
      "22/07/07 09:46:28 INFO BlockManagerMaster: BlockManagerMaster stopped\n",
      "22/07/07 09:46:28 INFO OutputCommitCoordinator$OutputCommitCoordinatorEndpoint: OutputCommitCoordinator stopped!\n",
      "22/07/07 09:46:28 INFO SparkContext: Successfully stopped SparkContext\n"
     ]
    }
   ],
   "source": [
    "sc.stop()"
   ]
  },
  {
   "cell_type": "markdown",
   "id": "257014c3",
   "metadata": {},
   "source": [
    "# Fim"
   ]
  }
 ],
 "metadata": {
  "kernelspec": {
   "display_name": "Python 3 (ipykernel)",
   "language": "python",
   "name": "python3"
  },
  "language_info": {
   "codemirror_mode": {
    "name": "ipython",
    "version": 3
   },
   "file_extension": ".py",
   "mimetype": "text/x-python",
   "name": "python",
   "nbconvert_exporter": "python",
   "pygments_lexer": "ipython3",
   "version": "3.9.7"
  }
 },
 "nbformat": 4,
 "nbformat_minor": 5
}
